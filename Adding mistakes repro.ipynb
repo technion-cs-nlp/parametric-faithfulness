{
 "cells": [
  {
   "cell_type": "code",
   "execution_count": null,
   "id": "2abf7110-670b-49a1-8ee8-95e88e7fe6e1",
   "metadata": {},
   "outputs": [],
   "source": [
    "import os, json\n",
    "from copy import deepcopy\n",
    "\n",
    "import numpy as np\n",
    "from openai import OpenAI\n",
    "from tqdm import tqdm\n",
    "\n",
    "from mistakes_const import PARAPHRASE_PROMPT, ADD_MISTAKE_FEWSHOT\n",
    "from const import model_name_dict, dataset_model_best_lr, LETTERS, datasets, model_name_to_path\n",
    "from util import store_jsonl, load_results, load_specific_results\n",
    "\n",
    "models = model_name_to_path.values()"
   ]
  },
  {
   "cell_type": "code",
   "execution_count": null,
   "id": "85c3c396-16d6-408d-be08-b0b12ebb8dc8",
   "metadata": {},
   "outputs": [],
   "source": [
    "client = OpenAI(api_key=\"\")"
   ]
  },
  {
   "cell_type": "code",
   "execution_count": null,
   "id": "c9836aee-274a-4424-9a59-f838babc438b",
   "metadata": {},
   "outputs": [],
   "source": [
    "def query_api(prompt, client, model=\"gpt-4o-mini\"):\n",
    "    response = client.chat.completions.create(\n",
    "        messages=[{\n",
    "            \"role\": \"user\",\n",
    "            \"content\": prompt,\n",
    "        }],\n",
    "        model=model,\n",
    "    )\n",
    "    return response"
   ]
  },
  {
   "cell_type": "code",
   "execution_count": null,
   "id": "5ef43101-7f1e-4d22-b21a-f34ef0f51380",
   "metadata": {},
   "outputs": [],
   "source": [
    "def make_question(question, options):\n",
    "    _options = '\\n'.join([\"(\" + o for o in options])\n",
    "    \n",
    "    return f\"{question}\\n\\n{_options}\""
   ]
  },
  {
   "cell_type": "code",
   "execution_count": null,
   "id": "b918c616-b925-4fb1-813a-d706e04357e2",
   "metadata": {},
   "outputs": [],
   "source": [
    "PATH_ROOT = 'mistake_results'\n",
    "for model in models:\n",
    "    model_name = model_name_dict[model.split(\"/\")[1]]\n",
    "    for dataset in datasets:\n",
    "\n",
    "        resdir = f\"{PATH_ROOT}/{dataset}/{model_name}\"\n",
    "        os.makedirs(resdir, exist_ok=True)\n",
    "        lr = dataset_model_best_lr[dataset][model_name]\n",
    "        path_to_store = f\"{resdir}/npo_KL_{lr}_rs=1001_mistakes.jsonl\"\n",
    "\n",
    "        if os.path.exists(path_to_store): \n",
    "            print(\"Results exist, skipping\")\n",
    "            continue\n",
    "\n",
    "        print(f\"Running for {dataset} & {model_name}\")\n",
    "        results = load_specific_results(model_name, dataset, lr)\n",
    "        augmented_results = deepcopy(results)\n",
    "\n",
    "        for idx, instance in tqdm(enumerate(results), total=len(results)):\n",
    "            q = make_question(instance['question'], instance['options'])\n",
    "            prompt = ADD_MISTAKE_FEWSHOT.format(question=q, sentence=instance['cot_step'])\n",
    "            response = query_api(prompt, client)\n",
    "\n",
    "            answer = response.choices[0].message.content\n",
    "            augmented_results[idx]['mistake_cot_step'] = answer\n",
    "            augmented_results[idx]['mistake_model'] = response.model\n",
    "\n",
    "        store_jsonl(augmented_results, path_to_store)"
   ]
  },
  {
   "cell_type": "code",
   "execution_count": null,
   "id": "1b26b693-7725-4a7f-a00b-756fb43428e0",
   "metadata": {},
   "outputs": [],
   "source": []
  }
 ],
 "metadata": {
  "kernelspec": {
   "display_name": "Python 3 (ipykernel)",
   "language": "python",
   "name": "python3"
  },
  "language_info": {
   "codemirror_mode": {
    "name": "ipython",
    "version": 3
   },
   "file_extension": ".py",
   "mimetype": "text/x-python",
   "name": "python",
   "nbconvert_exporter": "python",
   "pygments_lexer": "ipython3",
   "version": "3.9.19"
  }
 },
 "nbformat": 4,
 "nbformat_minor": 5
}
