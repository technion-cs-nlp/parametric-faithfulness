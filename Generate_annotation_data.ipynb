{
 "cells": [
  {
   "cell_type": "code",
   "execution_count": 22,
   "id": "ddd5d3bc-6437-473e-8cda-0f516022672d",
   "metadata": {},
   "outputs": [],
   "source": [
    "import os, sys, json\n",
    "from pprint import pprint\n",
    "\n",
    "import numpy as np\n",
    "\n",
    "from vis_samples import highlight_steps\n",
    "from const import dataset_model_best_lr, LETTERS\n",
    "from stats import changed_prediction, average_efficacy, instance_specificity, compute_specificity, make_stats, instance_changed_prediction\n",
    "from util import load_results, unique_instances, filter_for_agreement, group_results, renorm, sort_key"
   ]
  },
  {
   "cell_type": "markdown",
   "id": "e31e3bcf-a3b6-4bb3-b99d-61b02a0bd3ce",
   "metadata": {},
   "source": [
    "## Define datasets & models from which we take annotation instances"
   ]
  },
  {
   "cell_type": "code",
   "execution_count": 23,
   "id": "7ed0f527-fbb4-4cc3-a8d5-fcdc85685a73",
   "metadata": {},
   "outputs": [],
   "source": [
    "datasets = ['arc-challenge', 'sqa']\n",
    "models = ['LLaMA-3', 'LLaMA-3-3B']"
   ]
  },
  {
   "cell_type": "code",
   "execution_count": 24,
   "id": "11b7333c-b6fe-4e4c-a124-663627ef7567",
   "metadata": {},
   "outputs": [],
   "source": [
    "def heatmap_stats(path_root, type=\"sentencize\", method='npo_KL', rs=1001,\n",
    "                   ff2=True, pos=True):\n",
    "    results = {}\n",
    "    for dataset in datasets:\n",
    "        for model in models:\n",
    "            lr = dataset_model_best_lr[dataset][model]\n",
    "           \n",
    "            floc = f'{path_root}/{dataset}/{model}/{method}_{type}_s=True_lr={lr}_rs={rs}_pos={pos}_ff2={ff2}.out'\n",
    "            if not os.path.exists(floc):\n",
    "                continue\n",
    "    \n",
    "            per_instance_results = load_results(floc)\n",
    "            \n",
    "            if per_instance_results:\n",
    "                key = f\"{dataset},{model},{method},{lr}\"\n",
    "                results[key] = make_stats(per_instance_results)\n",
    "    return results"
   ]
  },
  {
   "cell_type": "code",
   "execution_count": 25,
   "id": "e1a7b31b-528e-4a14-8383-3485167b0f01",
   "metadata": {},
   "outputs": [],
   "source": [
    "def heatmap_instances(path_root, type=\"sentencize\", method='npo_KL', rs=1001,\n",
    "                   ff2=True, pos=True):\n",
    "    results = {}\n",
    "    for dataset in datasets:\n",
    "        for model in models:\n",
    "            lr = dataset_model_best_lr[dataset][model]\n",
    "\n",
    "            floc = f'{path_root}/{dataset}/{model}/{method}_{type}_s=True_lr={lr}_rs={rs}_pos={pos}_ff2={ff2}.out'\n",
    "            if not os.path.exists(floc):\n",
    "                continue\n",
    "    \n",
    "            per_instance_results = load_results(floc)\n",
    "            \n",
    "            if per_instance_results:\n",
    "                key = f\"{dataset},{model},{method},{lr}\"\n",
    "                results[key] = per_instance_results\n",
    "    return results"
   ]
  },
  {
   "cell_type": "code",
   "execution_count": 26,
   "id": "cf4f9047-a28b-468f-846b-4439c329be8b",
   "metadata": {},
   "outputs": [],
   "source": [
    "def max_mass_shift(a_result, do_print=False):\n",
    "    # Negative -> probability gets added, positive -> probability gets removed\n",
    "    unlearning_results = a_result['unlearning_results']\n",
    "    probs = [renorm(r['probs']) for  _, r in unlearning_results.items()]\n",
    "\n",
    "    initial_pred = np.argmax(probs[0])\n",
    "    initial_mass = probs[0][initial_pred]\n",
    "    dmass = [initial_mass - m[initial_pred] for m in probs[1:]]\n",
    "\n",
    "    if do_print:\n",
    "        print(probs, '\\n', initial_mass, dmass)\n",
    "    return max(dmass)"
   ]
  },
  {
   "cell_type": "code",
   "execution_count": 27,
   "id": "8b89469b-0124-49bd-8edd-34ab10731d09",
   "metadata": {},
   "outputs": [],
   "source": [
    "def max_abs_mass_shift(a_result, do_print=False):\n",
    "    # Negative -> probability gets added, positive -> probability gets removed\n",
    "    unlearning_results = a_result['unlearning_results']\n",
    "    probs = [renorm(r['probs']) for  _, r in unlearning_results.items()]\n",
    "\n",
    "    initial_pred = np.argmax(probs[0])\n",
    "    initial_mass = probs[0][initial_pred]\n",
    "    abs_dmass = [np.abs(initial_mass - m[initial_pred]) for m in probs[1:]]\n",
    "    dmass_idx = np.argmax(abs_dmass)\n",
    "    dmass = [initial_mass - m[initial_pred] for m in probs[1:]]\n",
    "    \n",
    "    \n",
    "    if do_print:\n",
    "        print(probs, '\\n', initial_mass, dmass)\n",
    "    return dmass[dmass_idx]"
   ]
  },
  {
   "cell_type": "code",
   "execution_count": 28,
   "id": "73dc9f1c-84e6-4ce1-b271-1a8167de63c7",
   "metadata": {},
   "outputs": [],
   "source": [
    "def compute_salient_steps(some_results):\n",
    "    steps_causing_flip = {}\n",
    "    steps_most_mass = {}\n",
    "    \n",
    "    for idx, (a_key, results) in enumerate(some_results.items()):\n",
    "        d, m, _, _ = a_key.split(\",\")\n",
    "        k_s = ' '.join([d,m])\n",
    "        \n",
    "        boolean = []\n",
    "        \n",
    "        for i, (q_key, q_results) in enumerate(results.items()):\n",
    "            salience_scores = [0] * len(q_results[0]['segmented_cot'])\n",
    "            for unlearned_step in q_results:\n",
    "                step_idx = unlearned_step['step_idx']\n",
    "                mass = max_mass_shift(unlearned_step, do_print=False)\n",
    "                print(q_results[0]['segmented_cot'][step_idx], mass)\n",
    "                salience_scores[step_idx] = mass\n",
    "                step_results = unlearned_step['unlearning_results']\n",
    "                has_flip, flips = instance_changed_prediction(step_results)\n",
    "                boolean.append(has_flip)\n",
    "\n",
    "            if not any(boolean) or max(salience_scores) < 0.1: continue\n",
    "            question = q_results[0]['question']\n",
    "            options = q_results[0]['options']\n",
    "            steps = q_results[0]['segmented_cot']\n",
    "            correct = LETTERS.index(q_results[0]['correct'])\n",
    "            predicted = q_results[0]['prediction']\n",
    "\n",
    "            highlight_steps(question, options, steps, correct, predicted, salience_scores)\n",
    "\n",
    "        if idx > 3: break\n",
    "    \n",
    "    return step_faithfulness_stats"
   ]
  },
  {
   "cell_type": "code",
   "execution_count": 29,
   "id": "43badae0-0d69-45e6-9fab-a84d9f2169c9",
   "metadata": {},
   "outputs": [],
   "source": [
    "final_results = heatmap_instances(\"results\", \"sentencize\", ff2=True, pos=True)"
   ]
  },
  {
   "cell_type": "code",
   "execution_count": 30,
   "id": "fdfede7f-916c-4193-bf1c-137366d956ed",
   "metadata": {},
   "outputs": [],
   "source": [
    "filtered_results = {}\n",
    "for a_key, result in sorted(final_results.items(), key=lambda t: sort_key(t[0])):\n",
    "    dataset, model, _, _ = a_key.split(\",\")\n",
    "    filtered_result = filter_for_agreement(result)\n",
    "    filtered_results[a_key] = filtered_result"
   ]
  },
  {
   "cell_type": "markdown",
   "id": "4650c7ca-1401-49c4-a966-300648a4e888",
   "metadata": {},
   "source": [
    "## Generate data for annotation"
   ]
  },
  {
   "cell_type": "code",
   "execution_count": 31,
   "id": "97834cbe-5847-4bf3-8a59-e0bd1b8ff6eb",
   "metadata": {},
   "outputs": [],
   "source": [
    "grouped_results = group_results(filtered_results)"
   ]
  },
  {
   "cell_type": "code",
   "execution_count": 32,
   "id": "afee3acb-b2b2-40b1-8bbc-6874b4293aee",
   "metadata": {},
   "outputs": [],
   "source": [
    "import matplotlib.pyplot as plt\n",
    "\n",
    "PLOT_BINS = [-0.5, -0.4, -0.3, -0.2, -0.1, 0., .1, .2, .3, .4, .5, .6, .7, .8, .9, 1.]\n",
    "\n",
    "def plot_prob_change_scatter(grouped_results):\n",
    "    fig, axs = plt.subplots(2,2, figsize=(10,4))\n",
    "    \n",
    "    for idx, (key, results) in enumerate(grouped_results.items()):\n",
    "        row, col = idx//2, idx%2\n",
    "        d, m, _, _ = key.split(\",\")\n",
    "        # candidate_results[key] = {} # q_key_step_idx\n",
    "\n",
    "        scatter_flip = [] # Just a histogram of this\n",
    "        scatter_noflip = []\n",
    "        \n",
    "        for i, (q_key, q_results) in enumerate(results.items()):\n",
    "            salience_scores = [0] * len(q_results[0]['segmented_cot'])\n",
    "            for unlearned_step in q_results:\n",
    "                # print(unlearned_step['step_idx'])\n",
    "                mass = max_abs_mass_shift(unlearned_step, do_print=False)\n",
    "                step_results = unlearned_step['unlearning_results']\n",
    "                has_flip, flips = instance_changed_prediction(step_results)\n",
    "                if has_flip:\n",
    "                    scatter_flip.append(mass)\n",
    "                else:\n",
    "                    scatter_noflip.append(mass)\n",
    "\n",
    "        flip_counts, flip_bins = np.histogram(scatter_flip, bins=PLOT_BINS)\n",
    "        noflip_counts, noflip_bins = np.histogram(scatter_noflip, bins=PLOT_BINS)\n",
    "                \n",
    "        axs[row][col].axvspan(-.5, -.25, alpha=0.2, color='lightcoral')\n",
    "        axs[row][col].axvspan(.25, .49, alpha=0.2, color='palegreen')\n",
    "        axs[row][col].axvspan(.5, 1., alpha=0.2, color='darkgreen')\n",
    "\n",
    "        axs[row][col].stairs(flip_counts, flip_bins)\n",
    "        axs[row][col].stairs(noflip_counts, noflip_bins)\n",
    "\n",
    "        \n",
    "        axs[row][col].set_xlabel('Probability shifted from initial answer')\n",
    "        axs[row][col].set_ylabel('Frequency')\n",
    "        m_name = m if m == 'LLaMA-3-3B' else 'LLaMA-3-8B'\n",
    "        d_name = 'ARC-challenge' if d != 'sqa' else 'StrategyQA'\n",
    "        axs[row][col].set_title(f\"{d_name} => {m_name}\")\n",
    "    fig.tight_layout()\n",
    "    plt.savefig(\"figures/flip_histograms.pdf\")\n",
    "    plt.show()"
   ]
  },
  {
   "cell_type": "code",
   "execution_count": 33,
   "id": "4f151c0a-9c53-43ef-9f8a-1f2c11ac32f0",
   "metadata": {},
   "outputs": [
    {
     "data": {
      "image/png": "[encoded data removed]",
      "text/plain": [
       "<Figure size 1000x400 with 4 Axes>"
      ]
     },
     "metadata": {},
     "output_type": "display_data"
    }
   ],
   "source": [
    "# Sample from everything except the [-.2, .2 interval]\n",
    "plot_prob_change_scatter(grouped_results)"
   ]
  },
  {
   "cell_type": "code",
   "execution_count": 34,
   "id": "399476cf-140b-4c66-89c8-e157d7b8e085",
   "metadata": {},
   "outputs": [],
   "source": [
    "import csv\n",
    "\n",
    "def generate_annotation_data(grouped_results):\n",
    "    candidate_results = {}\n",
    "    for idx, (key, results) in enumerate(grouped_results.items()):\n",
    "        d, m, _, _ = key.split(\",\")\n",
    "        if m == 'LLaMA-3':\n",
    "            m = 'LLaMA-3-8B'\n",
    "\n",
    "        duplicate_candidates = set()\n",
    "        candidate_results[key] = {\n",
    "            'neg_bin': [],\n",
    "            'med_bin': [],\n",
    "            'high_bin': [],\n",
    "        } # q_key_step_idx\n",
    "\n",
    "        with open(f'annotation_data/{d}_{m}_neg_bin.csv', 'w') as neg_out,\\\n",
    "            open(f'annotation_data/{d}_{m}_med_bin.csv', 'w') as med_out,\\\n",
    "            open(f'annotation_data/{d}_{m}_high_bin.csv', 'w') as high_out:\n",
    "            neg_writer = csv.writer(neg_out, delimiter=',', quotechar='\"', quoting=csv.QUOTE_MINIMAL)\n",
    "            med_writer = csv.writer(med_out, delimiter=',', quotechar='\"', quoting=csv.QUOTE_MINIMAL)\n",
    "            high_writer = csv.writer(high_out, delimiter=',', quotechar='\"', quoting=csv.QUOTE_MINIMAL)\n",
    "            HEADER = ['ID','Question','options','segmented_cot','correct_answer','predicted_answer','target_step_idx', 'dp', 'flip','dataset','model']\n",
    "            neg_writer.writerow(HEADER)\n",
    "            med_writer.writerow(HEADER)\n",
    "            high_writer.writerow(HEADER)\n",
    "            \n",
    "            \n",
    "            for i, (q_key, q_results) in enumerate(results.items()):\n",
    "                salience_scores = [0] * len(q_results[0]['segmented_cot'])\n",
    "                for unlearned_step in q_results:\n",
    "                    step_idx = unlearned_step['step_idx']\n",
    "        \n",
    "                    mass = max_abs_mass_shift(unlearned_step, do_print=False)\n",
    "                    step_results = unlearned_step['unlearning_results']\n",
    "                    has_flip, flips = instance_changed_prediction(step_results)\n",
    "    \n",
    "                    \n",
    "                    inst_id = q_results[0]['id']\n",
    "\n",
    "                    duplicate_id = f\"{inst_id}_{step_idx}\"\n",
    "                    if duplicate_id in duplicate_candidates:\n",
    "                        continue\n",
    "                    else:\n",
    "                        duplicate_candidates.add(duplicate_id)\n",
    "\n",
    "                    question = q_results[0]['question']\n",
    "                    options = \"||\".join(q_results[0]['options'])\n",
    "                    steps = \"||\".join(q_results[0]['segmented_cot'])\n",
    "                    correct = LETTERS.index(q_results[0]['correct'])\n",
    "                    predicted = q_results[0]['prediction']\n",
    "                    dp = f\"{mass:.3f}\"\n",
    "                    flip = str(has_flip)\n",
    "                    target_step = step_idx # target_id\n",
    "                    \n",
    "                    inst_data = [inst_id,question,options,steps,correct,predicted,target_step,dp,flip,d,m]\n",
    "                    \n",
    "                    if mass <= -.25:\n",
    "                        candidate_results[key]['neg_bin'].append(inst_data)\n",
    "                        neg_writer.writerow(inst_data)\n",
    "                    elif mass >= .25 and mass < .50:\n",
    "                        candidate_results[key]['med_bin'].append(inst_data)\n",
    "                        med_writer.writerow(inst_data)\n",
    "                    elif mass >= .50:\n",
    "                        candidate_results[key]['high_bin'].append(inst_data)\n",
    "                        high_writer.writerow(inst_data)\n",
    "    return candidate_results"
   ]
  },
  {
   "cell_type": "code",
   "execution_count": 35,
   "id": "28c7d002-7362-4ed4-ab72-4c7ac3960dde",
   "metadata": {},
   "outputs": [],
   "source": [
    "candidate_results = generate_annotation_data(grouped_results)"
   ]
  },
  {
   "cell_type": "code",
   "execution_count": 39,
   "id": "e9d9b304-b108-4963-b213-25d87b10c5ee",
   "metadata": {},
   "outputs": [
    {
     "name": "stdout",
     "output_type": "stream",
     "text": [
      "arc-challenge,LLaMA-3,npo_KL,1e-05\n",
      "Taking 15 samples from high_bin, carry = 0\n",
      "Taking 5 samples from med_bin, carry = 0\n",
      "Taking 5 samples from neg_bin, carry = 0\n",
      "arc-challenge,LLaMA-3-3B,npo_KL,3e-05\n",
      "Taking 15 samples from high_bin, carry = 0\n",
      "Taking 5 samples from med_bin, carry = 0\n",
      "Taking 5 samples from neg_bin, carry = 0\n",
      "sqa,LLaMA-3,npo_KL,1e-05\n",
      "Taking 15 samples from high_bin, carry = 0\n",
      "Taking 5 samples from med_bin, carry = 0\n",
      "Taking 5 samples from neg_bin, carry = 0\n",
      "sqa,LLaMA-3-3B,npo_KL,3e-05\n",
      "Taking 15 samples from high_bin, carry = 0\n",
      "Taking 5 samples from med_bin, carry = 0\n",
      "Taking 5 samples from neg_bin, carry = 0\n"
     ]
    }
   ],
   "source": [
    "import random\n",
    "annotation_instances = []\n",
    "\n",
    "for k, bins in candidate_results.items():\n",
    "    d, m, _, _ = k.split(\",\")\n",
    "    if m == 'LLaMA-3':\n",
    "        m = 'LLaMA-3-8B'\n",
    "    carry = 0\n",
    "    for bin_name, N in zip(['high_bin', 'med_bin', 'neg_bin'], [15, 5, 5]):\n",
    "        bin_samples = bins[bin_name]\n",
    "\n",
    "        N_carry = N+carry\n",
    "        N_b = len(bin_samples)\n",
    "\n",
    "        if N_carry > N_b:\n",
    "            bin_selected = bin_samples\n",
    "            carry = N_carry - N_b\n",
    "        else:\n",
    "            bin_selected = random.sample(bin_samples, N_carry)\n",
    "            carry = 0\n",
    "\n",
    "        annotation_instances.extend(bin_selected)\n",
    "        print(f\"Taking {len(bin_selected)} samples from {bin_name}, carry = {carry}\")\n",
    "\n",
    "random.shuffle(annotation_instances)\n",
    "\n",
    "HEADER = ['ID','Question','options','segmented_cot','correct_answer','predicted_answer','target_step_idx', 'dp', 'flip','dataset','model']\n",
    "with open(f'annotation_data/annotation_sample_5_5_15_shuffled.csv', 'w') as out:\n",
    "    writer = csv.writer(out, delimiter=',', quotechar='\"', quoting=csv.QUOTE_MINIMAL)\n",
    "    writer.writerow(HEADER)\n",
    "    for instance in annotation_instances:\n",
    "        writer.writerow(instance)"
   ]
  }
 ],
 "metadata": {
  "kernelspec": {
   "display_name": "Python 3 (ipykernel)",
   "language": "python",
   "name": "python3"
  },
  "language_info": {
   "codemirror_mode": {
    "name": "ipython",
    "version": 3
   },
   "file_extension": ".py",
   "mimetype": "text/x-python",
   "name": "python",
   "nbconvert_exporter": "python",
   "pygments_lexer": "ipython3",
   "version": "3.9.19"
  }
 },
 "nbformat": 4,
 "nbformat_minor": 5
}
